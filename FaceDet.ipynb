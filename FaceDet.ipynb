{
 "cells": [
  {
   "cell_type": "code",
   "execution_count": 77,
   "metadata": {},
   "outputs": [
    {
     "name": "stdout",
     "output_type": "stream",
     "text": [
      "Imported\n"
     ]
    }
   ],
   "source": [
    "import cv2\n",
    "print(\"Imported\")"
   ]
  },
  {
   "cell_type": "code",
   "execution_count": 78,
   "metadata": {},
   "outputs": [],
   "source": [
    "img1 = cv2.imread(\"C:\\\\Users\\\\Ritchie\\\\Desktop\\\\ritchieprof.jpg\",1)\n",
    "\n"
   ]
  },
  {
   "cell_type": "code",
   "execution_count": 79,
   "metadata": {},
   "outputs": [
    {
     "name": "stdout",
     "output_type": "stream",
     "text": [
      "<class 'numpy.ndarray'>\n"
     ]
    }
   ],
   "source": [
    "print(type(img1))\n"
   ]
  },
  {
   "cell_type": "code",
   "execution_count": 80,
   "metadata": {},
   "outputs": [
    {
     "name": "stdout",
     "output_type": "stream",
     "text": [
      "[[[14 16 16]\n",
      "  [14 16 16]\n",
      "  [14 16 16]\n",
      "  ...\n",
      "  [14 16 17]\n",
      "  [14 16 17]\n",
      "  [14 16 17]]\n",
      "\n",
      " [[14 16 16]\n",
      "  [14 16 16]\n",
      "  [14 16 16]\n",
      "  ...\n",
      "  [14 16 17]\n",
      "  [14 16 17]\n",
      "  [14 16 17]]\n",
      "\n",
      " [[14 16 16]\n",
      "  [14 16 16]\n",
      "  [14 16 16]\n",
      "  ...\n",
      "  [14 16 17]\n",
      "  [14 16 17]\n",
      "  [14 16 17]]\n",
      "\n",
      " ...\n",
      "\n",
      " [[17 19 20]\n",
      "  [17 19 20]\n",
      "  [17 19 20]\n",
      "  ...\n",
      "  [21 23 24]\n",
      "  [20 22 23]\n",
      "  [18 20 21]]\n",
      "\n",
      " [[17 19 20]\n",
      "  [17 19 20]\n",
      "  [17 19 20]\n",
      "  ...\n",
      "  [21 23 24]\n",
      "  [20 22 23]\n",
      "  [18 20 21]]\n",
      "\n",
      " [[17 19 20]\n",
      "  [17 19 20]\n",
      "  [17 19 20]\n",
      "  ...\n",
      "  [21 23 24]\n",
      "  [20 22 23]\n",
      "  [18 20 21]]]\n"
     ]
    }
   ],
   "source": [
    "print(img1)"
   ]
  },
  {
   "cell_type": "code",
   "execution_count": null,
   "metadata": {},
   "outputs": [],
   "source": []
  },
  {
   "cell_type": "code",
   "execution_count": 69,
   "metadata": {},
   "outputs": [],
   "source": [
    "cv2.imshow(\"Type your title here\", img)\n",
    "cv2.waitKey(0)\n",
    "#cv2.waitKey(100)\n",
    "cv2.destroyAllWindows()"
   ]
  },
  {
   "cell_type": "code",
   "execution_count": 70,
   "metadata": {},
   "outputs": [],
   "source": [
    "resizedImg = cv2.resize(img, (int(img.shape[1]/2),int(img.shape[0]/2)))\n",
    "cv2.imshow(\"Type your title here\", resizedImg)\n",
    "cv2.waitKey(0)\n",
    "#cv2.waitKey(100)\n",
    "cv2.destroyAllWindows()"
   ]
  },
  {
   "cell_type": "code",
   "execution_count": null,
   "metadata": {},
   "outputs": [],
   "source": []
  },
  {
   "cell_type": "code",
   "execution_count": null,
   "metadata": {},
   "outputs": [
    {
     "name": "stdout",
     "output_type": "stream",
     "text": [
      "<class 'numpy.ndarray'>\n",
      "[[ 46 106 197 197]]\n"
     ]
    }
   ],
   "source": [
    "face_cascade = cv2.CascadeClassifier('haarcascade_frontalface_default.xml')\n",
    "img1 = cv2.imread(\"C:\\\\Users\\\\Ritchie\\\\Desktop\\\\ritchieprof.jpg\")\n",
    "gray_img = cv2.cvtColor(img1, cv2.COLOR_BGR2GRAY)\n",
    "faces = face_cascade.detectMultiScale(gray_img, scaleFactor = 1.05, minNeighbors=5)\n",
    "print(type(faces))\n",
    "print(faces)\n",
    "for x,y,w,h in faces:\n",
    "    img1 = cv2.rectangle(img1, (x,y), (x+w,y+h), (0,255,0),3)\n",
    "cv2.imshow(\"Face Detection System\", img1)\n",
    "cv2.waitKey()\n",
    "cv2.destroyAllWindows()\n",
    "    \n",
    "\n"
   ]
  },
  {
   "cell_type": "code",
   "execution_count": null,
   "metadata": {},
   "outputs": [],
   "source": []
  },
  {
   "cell_type": "code",
   "execution_count": null,
   "metadata": {},
   "outputs": [],
   "source": []
  },
  {
   "cell_type": "code",
   "execution_count": null,
   "metadata": {},
   "outputs": [],
   "source": []
  },
  {
   "cell_type": "code",
   "execution_count": null,
   "metadata": {},
   "outputs": [],
   "source": []
  },
  {
   "cell_type": "code",
   "execution_count": null,
   "metadata": {},
   "outputs": [],
   "source": []
  },
  {
   "cell_type": "code",
   "execution_count": null,
   "metadata": {},
   "outputs": [],
   "source": []
  },
  {
   "cell_type": "code",
   "execution_count": null,
   "metadata": {},
   "outputs": [],
   "source": []
  }
 ],
 "metadata": {
  "kernelspec": {
   "display_name": "Python 3",
   "language": "python",
   "name": "python3"
  },
  "language_info": {
   "codemirror_mode": {
    "name": "ipython",
    "version": 3
   },
   "file_extension": ".py",
   "mimetype": "text/x-python",
   "name": "python",
   "nbconvert_exporter": "python",
   "pygments_lexer": "ipython3",
   "version": "3.7.1"
  }
 },
 "nbformat": 4,
 "nbformat_minor": 4
}
